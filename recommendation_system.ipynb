{
 "cells": [
  {
   "cell_type": "markdown",
   "id": "acfbf56d",
   "metadata": {},
   "source": [
    "# EDA/insights into the crossing-books datasets"
   ]
  },
  {
   "cell_type": "code",
   "execution_count": 565,
   "id": "b5c81ada",
   "metadata": {},
   "outputs": [],
   "source": [
    "import numpy as np\n",
    "from scipy.stats import skew\n",
    "import statistics as st\n",
    "import math\n",
    "import matplotlib.pyplot as plt\n",
    "import seaborn as sns\n",
    "from collections import Counter\n",
    "import pandas as pd\n",
    "\n",
    "sns.set()\n",
    "plt.rcParams[\"figure.figsize\"] = (17,3)"
   ]
  },
  {
   "cell_type": "code",
   "execution_count": 566,
   "id": "ba2c14cb",
   "metadata": {
    "scrolled": true
   },
   "outputs": [
    {
     "name": "stderr",
     "output_type": "stream",
     "text": [
      "b'Skipping line 6452: expected 8 fields, saw 9\\nSkipping line 43667: expected 8 fields, saw 10\\nSkipping line 51751: expected 8 fields, saw 9\\nSkipping line 92038: expected 8 fields, saw 9\\nSkipping line 104319: expected 8 fields, saw 9\\nSkipping line 121768: expected 8 fields, saw 9\\nSkipping line 144058: expected 8 fields, saw 9\\nSkipping line 150789: expected 8 fields, saw 9\\nSkipping line 157128: expected 8 fields, saw 9\\nSkipping line 180189: expected 8 fields, saw 9\\nSkipping line 185738: expected 8 fields, saw 9\\nSkipping line 209388: expected 8 fields, saw 9\\nSkipping line 220626: expected 8 fields, saw 9\\nSkipping line 227933: expected 8 fields, saw 11\\nSkipping line 228957: expected 8 fields, saw 10\\nSkipping line 245933: expected 8 fields, saw 9\\nSkipping line 251296: expected 8 fields, saw 9\\nSkipping line 259941: expected 8 fields, saw 9\\nSkipping line 261529: expected 8 fields, saw 9\\n'\n"
     ]
    }
   ],
   "source": [
    "## consideration of \"bad lines\" is important and it basically stands for \n",
    "## a csv line with too many commas, which the case here. \n",
    "##If not addressed to many incorrect data entry\n",
    "\n",
    "col_names = [\"User-ID\", \"ISBN\",\"Book-Rating\"]\n",
    "df_ranking = pd.read_csv('BX-CSV-Dump/BX-Book-ratings.csv', delimiter = \";\", error_bad_lines=False, low_memory=False, encoding='ISO-8859–1')\n",
    "df_ranking.columns = col_names\n",
    "\n",
    "col_names = [\"User-ID\",\"Location\",\"Age\"]\n",
    "df_users = pd.read_csv('BX-CSV-Dump/BX-Users.csv', delimiter = \";\", error_bad_lines=False, low_memory=False, encoding='ISO-8859–1')\n",
    "df_users.columns = col_names\n",
    "\n",
    "col_names = [\"ISBN\",\"Book-Title\",\"Book-Author\",\"Year-Of-Publication\",\"Publisher\",\"Image-URL-S\",\"Image-URL-M\",\"Image-URL-L\"]\n",
    "df_books = pd.read_csv(\"BX-CSV-Dump/BX-Books.csv\", sep=';', error_bad_lines=False, low_memory=False, encoding='ISO-8859–1')\n",
    "df_books.columns = col_names\n",
    "\n",
    "\n",
    "\n",
    "\n",
    "\n"
   ]
  },
  {
   "cell_type": "markdown",
   "id": "5574d209",
   "metadata": {},
   "source": [
    "## Data cleaning"
   ]
  },
  {
   "cell_type": "code",
   "execution_count": 567,
   "id": "58e5568d",
   "metadata": {
    "scrolled": true
   },
   "outputs": [
    {
     "name": "stdout",
     "output_type": "stream",
     "text": [
      "ISBN                   0\n",
      "Book-Title             0\n",
      "Book-Author            1\n",
      "Year-Of-Publication    0\n",
      "Publisher              2\n",
      "Image-URL-S            0\n",
      "Image-URL-M            0\n",
      "Image-URL-L            3\n",
      "dtype: int64\n",
      "\n",
      "\n",
      "User-ID          0\n",
      "Location         0\n",
      "Age         110762\n",
      "dtype: int64\n",
      "\n",
      "\n",
      "User-ID        0\n",
      "ISBN           0\n",
      "Book-Rating    0\n",
      "dtype: int64\n"
     ]
    }
   ],
   "source": [
    "# data.isnull() # shows a df with the information whether a data point is null \n",
    "\n",
    "print(df_books.isnull().sum())\n",
    "print('\\n')\n",
    "print(df_users.isnull().sum())\n",
    "print('\\n')\n",
    "print(df_ranking.isnull().sum())\n",
    "\n",
    "# quite much nans for age column\n",
    "# and also publisher and book author to check"
   ]
  },
  {
   "cell_type": "markdown",
   "id": "1d4ca201",
   "metadata": {},
   "source": [
    "## exploring users"
   ]
  },
  {
   "cell_type": "code",
   "execution_count": 568,
   "id": "5667b640",
   "metadata": {
    "scrolled": true
   },
   "outputs": [
    {
     "name": "stdout",
     "output_type": "stream",
     "text": [
      "   User-ID                            Location   Age\n",
      "0        1                  nyc, new york, usa   NaN\n",
      "1        2           stockton, california, usa  18.0\n",
      "2        3     moscow, yukon territory, russia   NaN\n",
      "3        4           porto, v.n.gaia, portugal  17.0\n",
      "4        5  farnborough, hants, united kingdom   NaN\n",
      "5        6       santa monica, california, usa  61.0\n",
      "6        7                 washington, dc, usa   NaN\n",
      "7        8            timmins, ontario, canada   NaN\n",
      "8        9          germantown, tennessee, usa   NaN\n",
      "9       10          albacete, wisconsin, spain  26.0\n"
     ]
    }
   ],
   "source": [
    "# exploring  datasets\n",
    "\n",
    "print(df_users.head(10))\n",
    "\n",
    "## it would be wise do consider location entries seprately\n",
    "## for the future model to recommend books based on city, district/state, country in a separate way\n",
    "## since sometimes it makes much more sense taking into the account whole country\n",
    "## rather than some city in there provided that some countries are not diverse and different in either location\n",
    "\n",
    "# split column into multiple columns by delimiter \n",
    "df_users_locations = df_users['Location'].str.split(',', n = 2, expand=True)\n",
    "df_users_locations.columns = ['city', 'state/district', 'country']\n",
    "df_users = pd.concat([df_users, df_users_locations], sort=False, axis = 1)\n",
    "\n",
    "\n"
   ]
  },
  {
   "cell_type": "code",
   "execution_count": 569,
   "id": "79f702b4",
   "metadata": {},
   "outputs": [
    {
     "data": {
      "text/plain": [
       "array([ nan,  18.,  17.,  61.,  26.,  14.,  25.,  19.,  46.,  55.,  32.,\n",
       "        24.,  20.,  34.,  23.,  51.,  31.,  21.,  44.,  30.,  57.,  43.,\n",
       "        37.,  41.,  54.,  42.,  50.,  39.,  53.,  47.,  36.,  28.,  35.,\n",
       "        13.,  58.,  49.,  38.,  45.,  62.,  63.,  27.,  33.,  29.,  66.,\n",
       "        40.,  15.,  60.,   0.,  79.,  22.,  16.,  65.,  59.,  48.,  72.,\n",
       "        56.,  67.,   1.,  80.,  52.,  69.,  71.,  73.,  78.,   9.,  64.,\n",
       "       103., 104.,  12.,  74.,  75., 231.,   3.,  76.,  83.,  68., 119.,\n",
       "        11.,  77.,   2.,  70.,  93.,   8.,   7.,   4.,  81., 114., 230.,\n",
       "       239.,  10.,   5., 148., 151.,   6., 101., 201.,  96.,  84.,  82.,\n",
       "        90., 123., 244., 133.,  91., 128.,  94.,  85., 141., 110.,  97.,\n",
       "       219.,  86., 124.,  92., 175., 172., 209., 212., 237.,  87., 162.,\n",
       "       100., 156., 136.,  95.,  89., 106.,  99., 108., 210.,  88., 199.,\n",
       "       147., 168., 132., 159., 186., 152., 102., 116., 200., 115., 226.,\n",
       "       137., 207., 229., 138., 109., 105., 228., 183., 204.,  98., 223.,\n",
       "       113., 208., 107., 157., 111., 146., 118., 220., 143., 140., 189.,\n",
       "       127.])"
      ]
     },
     "execution_count": 569,
     "metadata": {},
     "output_type": "execute_result"
    }
   ],
   "source": [
    "## what about age column? There seemed to be a lot of unknowns\n",
    "## let's explore what is inside\n",
    "\n",
    "df_users['Age'].unique()\n",
    "\n",
    "## age of ~95+ and 6<  seems to be incorrect"
   ]
  },
  {
   "cell_type": "code",
   "execution_count": 570,
   "id": "e847dd25",
   "metadata": {},
   "outputs": [
    {
     "data": {
      "text/plain": [
       "112055"
      ]
     },
     "execution_count": 570,
     "metadata": {},
     "output_type": "execute_result"
    }
   ],
   "source": [
    "df_users.loc[(df_users['Age'] > 95) | (df_users['Age'] < 6) ,'Age'] = np.NAN\n",
    "df_users['Age'].isnull().sum()\n",
    "\n",
    "# almost 112 k nans for user ages, we might\n",
    "# use central tendecies such as average age of people\n",
    "# based on country, region\n",
    "# as for the future models to be improved\n"
   ]
  },
  {
   "cell_type": "code",
   "execution_count": 571,
   "id": "64790c3c",
   "metadata": {},
   "outputs": [
    {
     "data": {
      "text/html": [
       "<div>\n",
       "<style scoped>\n",
       "    .dataframe tbody tr th:only-of-type {\n",
       "        vertical-align: middle;\n",
       "    }\n",
       "\n",
       "    .dataframe tbody tr th {\n",
       "        vertical-align: top;\n",
       "    }\n",
       "\n",
       "    .dataframe thead th {\n",
       "        text-align: right;\n",
       "    }\n",
       "</style>\n",
       "<table border=\"1\" class=\"dataframe\">\n",
       "  <thead>\n",
       "    <tr style=\"text-align: right;\">\n",
       "      <th></th>\n",
       "      <th>User-ID</th>\n",
       "      <th>ISBN</th>\n",
       "      <th>Book-Rating</th>\n",
       "    </tr>\n",
       "  </thead>\n",
       "  <tbody>\n",
       "    <tr>\n",
       "      <th>0</th>\n",
       "      <td>276725</td>\n",
       "      <td>034545104X</td>\n",
       "      <td>0</td>\n",
       "    </tr>\n",
       "    <tr>\n",
       "      <th>1</th>\n",
       "      <td>276726</td>\n",
       "      <td>0155061224</td>\n",
       "      <td>5</td>\n",
       "    </tr>\n",
       "    <tr>\n",
       "      <th>2</th>\n",
       "      <td>276727</td>\n",
       "      <td>0446520802</td>\n",
       "      <td>0</td>\n",
       "    </tr>\n",
       "    <tr>\n",
       "      <th>3</th>\n",
       "      <td>276729</td>\n",
       "      <td>052165615X</td>\n",
       "      <td>3</td>\n",
       "    </tr>\n",
       "    <tr>\n",
       "      <th>4</th>\n",
       "      <td>276729</td>\n",
       "      <td>0521795028</td>\n",
       "      <td>6</td>\n",
       "    </tr>\n",
       "  </tbody>\n",
       "</table>\n",
       "</div>"
      ],
      "text/plain": [
       "   User-ID        ISBN  Book-Rating\n",
       "0   276725  034545104X            0\n",
       "1   276726  0155061224            5\n",
       "2   276727  0446520802            0\n",
       "3   276729  052165615X            3\n",
       "4   276729  0521795028            6"
      ]
     },
     "execution_count": 571,
     "metadata": {},
     "output_type": "execute_result"
    }
   ],
   "source": [
    "df_ranking.head()"
   ]
  },
  {
   "cell_type": "code",
   "execution_count": 572,
   "id": "3f6b9154",
   "metadata": {
    "scrolled": true
   },
   "outputs": [
    {
     "name": "stdout",
     "output_type": "stream",
     "text": [
      "ISBN                   0\n",
      "Book-Title             0\n",
      "Book-Author            1\n",
      "Year-Of-Publication    0\n",
      "Publisher              2\n",
      "Image-URL-S            0\n",
      "Image-URL-M            0\n",
      "Image-URL-L            3\n",
      "dtype: int64\n",
      "\n",
      "\n",
      "User-ID                0\n",
      "Location               0\n",
      "Age               112055\n",
      "city                   0\n",
      "state/district         1\n",
      "country                2\n",
      "dtype: int64\n",
      "\n",
      "\n",
      "User-ID        0\n",
      "ISBN           0\n",
      "Book-Rating    0\n",
      "dtype: int64\n"
     ]
    }
   ],
   "source": [
    "# data.isnull() # shows a df with the information whether a data point is null \n",
    "\n",
    "print(df_books.isnull().sum())\n",
    "print('\\n')\n",
    "print(df_users.isnull().sum())\n",
    "print('\\n')\n",
    "print(df_ranking.isnull().sum())\n",
    "\n",
    "# quite much nans for age column\n",
    "# also publisher and book authors to be chekhed"
   ]
  },
  {
   "cell_type": "markdown",
   "id": "5c9dc2a2",
   "metadata": {},
   "source": [
    "## books dataset "
   ]
  },
  {
   "cell_type": "code",
   "execution_count": 573,
   "id": "45ffa3f4",
   "metadata": {},
   "outputs": [
    {
     "data": {
      "text/plain": [
       "array(['2002', '2001', '1991', '1999', '2000', '1993', '1996', '1988',\n",
       "       '2004', '1998', '1994', '2003', '1997', '1983', '1979', '1995',\n",
       "       '1982', '1985', '1992', '1986', '1978', '1980', '1952', '1987',\n",
       "       '1990', '1981', '1989', '1984', '0', '1968', '1961', '1958',\n",
       "       '1974', '1976', '1971', '1977', '1975', '1965', '1941', '1970',\n",
       "       '1962', '1973', '1972', '1960', '1966', '1920', '1956', '1959',\n",
       "       '1953', '1951', '1942', '1963', '1964', '1969', '1954', '1950',\n",
       "       '1967', '2005', '1957', '1940', '1937', '1955', '1946', '1936',\n",
       "       '1930', '2011', '1925', '1948', '1943', '1947', '1945', '1923',\n",
       "       '2020', '1939', '1926', '1938', '2030', '1911', '1904', '1949',\n",
       "       '1932', '1928', '1929', '1927', '1931', '1914', '2050', '1934',\n",
       "       '1910', '1933', '1902', '1924', '1921', '1900', '2038', '2026',\n",
       "       '1944', '1917', '1901', '2010', '1908', '1906', '1935', '1806',\n",
       "       '2021', '2012', '2006', 'DK Publishing Inc', 'Gallimard', '1909',\n",
       "       '2008', '1378', '1919', '1922', '1897', '2024', '1376', '2037'],\n",
       "      dtype=object)"
      ]
     },
     "execution_count": 573,
     "metadata": {},
     "output_type": "execute_result"
    }
   ],
   "source": [
    "## in the book dataset description it was noted that \n",
    "## Books are identified by their respective ISBN. \n",
    "## Invalid ISBNs have already been removed from the dataset, therefore no need to check them\n",
    "\n",
    "# as it was noted in the forums, there are issues with year of publication due to incorrent entry\n",
    "# let's see what is going on there\n",
    "\n",
    "df_books['Year-Of-Publication'].unique()"
   ]
  },
  {
   "cell_type": "code",
   "execution_count": 574,
   "id": "304f8f79",
   "metadata": {
    "scrolled": true
   },
   "outputs": [
    {
     "data": {
      "text/html": [
       "<div>\n",
       "<style scoped>\n",
       "    .dataframe tbody tr th:only-of-type {\n",
       "        vertical-align: middle;\n",
       "    }\n",
       "\n",
       "    .dataframe tbody tr th {\n",
       "        vertical-align: top;\n",
       "    }\n",
       "\n",
       "    .dataframe thead th {\n",
       "        text-align: right;\n",
       "    }\n",
       "</style>\n",
       "<table border=\"1\" class=\"dataframe\">\n",
       "  <thead>\n",
       "    <tr style=\"text-align: right;\">\n",
       "      <th></th>\n",
       "      <th>ISBN</th>\n",
       "      <th>Book-Title</th>\n",
       "      <th>Book-Author</th>\n",
       "      <th>Year-Of-Publication</th>\n",
       "      <th>Publisher</th>\n",
       "      <th>Image-URL-S</th>\n",
       "      <th>Image-URL-M</th>\n",
       "      <th>Image-URL-L</th>\n",
       "    </tr>\n",
       "  </thead>\n",
       "  <tbody>\n",
       "    <tr>\n",
       "      <th>209538</th>\n",
       "      <td>078946697X</td>\n",
       "      <td>DK Readers: Creating the X-Men, How It All Began (Level 4: Proficient Readers)\\\";Michael Teitelbaum\"</td>\n",
       "      <td>2000</td>\n",
       "      <td>DK Publishing Inc</td>\n",
       "      <td>http://images.amazon.com/images/P/078946697X.01.THUMBZZZ.jpg</td>\n",
       "      <td>http://images.amazon.com/images/P/078946697X.01.MZZZZZZZ.jpg</td>\n",
       "      <td>http://images.amazon.com/images/P/078946697X.01.LZZZZZZZ.jpg</td>\n",
       "      <td>NaN</td>\n",
       "    </tr>\n",
       "    <tr>\n",
       "      <th>220731</th>\n",
       "      <td>2070426769</td>\n",
       "      <td>Peuple du ciel, suivi de 'Les Bergers\\\";Jean-Marie Gustave Le ClÃ?Â©zio\"</td>\n",
       "      <td>2003</td>\n",
       "      <td>Gallimard</td>\n",
       "      <td>http://images.amazon.com/images/P/2070426769.01.THUMBZZZ.jpg</td>\n",
       "      <td>http://images.amazon.com/images/P/2070426769.01.MZZZZZZZ.jpg</td>\n",
       "      <td>http://images.amazon.com/images/P/2070426769.01.LZZZZZZZ.jpg</td>\n",
       "      <td>NaN</td>\n",
       "    </tr>\n",
       "    <tr>\n",
       "      <th>221678</th>\n",
       "      <td>0789466953</td>\n",
       "      <td>DK Readers: Creating the X-Men, How Comic Books Come to Life (Level 4: Proficient Readers)\\\";James Buckley\"</td>\n",
       "      <td>2000</td>\n",
       "      <td>DK Publishing Inc</td>\n",
       "      <td>http://images.amazon.com/images/P/0789466953.01.THUMBZZZ.jpg</td>\n",
       "      <td>http://images.amazon.com/images/P/0789466953.01.MZZZZZZZ.jpg</td>\n",
       "      <td>http://images.amazon.com/images/P/0789466953.01.LZZZZZZZ.jpg</td>\n",
       "      <td>NaN</td>\n",
       "    </tr>\n",
       "  </tbody>\n",
       "</table>\n",
       "</div>"
      ],
      "text/plain": [
       "              ISBN  \\\n",
       "209538  078946697X   \n",
       "220731  2070426769   \n",
       "221678  0789466953   \n",
       "\n",
       "                                                                                                         Book-Title  \\\n",
       "209538         DK Readers: Creating the X-Men, How It All Began (Level 4: Proficient Readers)\\\";Michael Teitelbaum\"   \n",
       "220731                                     Peuple du ciel, suivi de 'Les Bergers\\\";Jean-Marie Gustave Le ClÃ?Â©zio\"   \n",
       "221678  DK Readers: Creating the X-Men, How Comic Books Come to Life (Level 4: Proficient Readers)\\\";James Buckley\"   \n",
       "\n",
       "       Book-Author Year-Of-Publication  \\\n",
       "209538        2000   DK Publishing Inc   \n",
       "220731        2003           Gallimard   \n",
       "221678        2000   DK Publishing Inc   \n",
       "\n",
       "                                                           Publisher  \\\n",
       "209538  http://images.amazon.com/images/P/078946697X.01.THUMBZZZ.jpg   \n",
       "220731  http://images.amazon.com/images/P/2070426769.01.THUMBZZZ.jpg   \n",
       "221678  http://images.amazon.com/images/P/0789466953.01.THUMBZZZ.jpg   \n",
       "\n",
       "                                                         Image-URL-S  \\\n",
       "209538  http://images.amazon.com/images/P/078946697X.01.MZZZZZZZ.jpg   \n",
       "220731  http://images.amazon.com/images/P/2070426769.01.MZZZZZZZ.jpg   \n",
       "221678  http://images.amazon.com/images/P/0789466953.01.MZZZZZZZ.jpg   \n",
       "\n",
       "                                                         Image-URL-M  \\\n",
       "209538  http://images.amazon.com/images/P/078946697X.01.LZZZZZZZ.jpg   \n",
       "220731  http://images.amazon.com/images/P/2070426769.01.LZZZZZZZ.jpg   \n",
       "221678  http://images.amazon.com/images/P/0789466953.01.LZZZZZZZ.jpg   \n",
       "\n",
       "       Image-URL-L  \n",
       "209538         NaN  \n",
       "220731         NaN  \n",
       "221678         NaN  "
      ]
     },
     "execution_count": 574,
     "metadata": {},
     "output_type": "execute_result"
    }
   ],
   "source": [
    "## it's particually interesing what is the exact issue of the row that contain \n",
    "## 'DK Publishing Inc', 'Gallimard', and 0 in the year column\n",
    "## to decide whethwe we should remove them or there is a chance of fixing it\n",
    "options = ['DK Publishing Inc', 'Gallimard']\n",
    "  \n",
    "# selecting rows based on condition\n",
    "\n",
    "\n",
    "pd.set_option(\"display.max_colwidth\", None)\n",
    "df_books[df_books['Year-Of-Publication'].isin(options)]\n",
    "\n",
    "\n",
    "\n",
    "# seems like there was a shift, also not that book author is in book title"
   ]
  },
  {
   "cell_type": "code",
   "execution_count": 575,
   "id": "5e920e9f",
   "metadata": {},
   "outputs": [
    {
     "data": {
      "text/html": [
       "<div>\n",
       "<style scoped>\n",
       "    .dataframe tbody tr th:only-of-type {\n",
       "        vertical-align: middle;\n",
       "    }\n",
       "\n",
       "    .dataframe tbody tr th {\n",
       "        vertical-align: top;\n",
       "    }\n",
       "\n",
       "    .dataframe thead th {\n",
       "        text-align: right;\n",
       "    }\n",
       "</style>\n",
       "<table border=\"1\" class=\"dataframe\">\n",
       "  <thead>\n",
       "    <tr style=\"text-align: right;\">\n",
       "      <th></th>\n",
       "      <th>ISBN</th>\n",
       "      <th>Book-Title</th>\n",
       "      <th>Book-Author</th>\n",
       "      <th>Year-Of-Publication</th>\n",
       "      <th>Publisher</th>\n",
       "      <th>Image-URL-S</th>\n",
       "      <th>Image-URL-M</th>\n",
       "      <th>Image-URL-L</th>\n",
       "    </tr>\n",
       "  </thead>\n",
       "  <tbody>\n",
       "    <tr>\n",
       "      <th>209538</th>\n",
       "      <td>078946697X</td>\n",
       "      <td>DK Readers: Creating the X-Men, How It All Began (Level 4: Proficient Readers)</td>\n",
       "      <td>Michael Teitelbaum</td>\n",
       "      <td>2000</td>\n",
       "      <td>DK Publishing Inc</td>\n",
       "      <td>http://images.amazon.com/images/P/078946697X.01.MZZZZZZZ.jpg</td>\n",
       "      <td>http://images.amazon.com/images/P/078946697X.01.LZZZZZZZ.jpg</td>\n",
       "      <td>NaN</td>\n",
       "    </tr>\n",
       "  </tbody>\n",
       "</table>\n",
       "</div>"
      ],
      "text/plain": [
       "              ISBN  \\\n",
       "209538  078946697X   \n",
       "\n",
       "                                                                            Book-Title  \\\n",
       "209538  DK Readers: Creating the X-Men, How It All Began (Level 4: Proficient Readers)   \n",
       "\n",
       "               Book-Author Year-Of-Publication          Publisher  \\\n",
       "209538  Michael Teitelbaum                2000  DK Publishing Inc   \n",
       "\n",
       "                                                         Image-URL-S  \\\n",
       "209538  http://images.amazon.com/images/P/078946697X.01.MZZZZZZZ.jpg   \n",
       "\n",
       "                                                         Image-URL-M  \\\n",
       "209538  http://images.amazon.com/images/P/078946697X.01.LZZZZZZZ.jpg   \n",
       "\n",
       "       Image-URL-L  \n",
       "209538         NaN  "
      ]
     },
     "execution_count": 575,
     "metadata": {},
     "output_type": "execute_result"
    }
   ],
   "source": [
    "df_books.loc[df_books.index == 209538, \"Book-Title\"] = \"DK Readers: Creating the X-Men, How It All Began (Level 4: Proficient Readers)\"\n",
    "df_books.loc[df_books.index == 209538, \"Year-Of-Publication\"] = \"2000\"\n",
    "df_books.loc[df_books.index == 209538, \"Book-Author\"] = \"Michael Teitelbaum\"\n",
    "df_books.loc[df_books.index == 209538, \"Publisher\"] = \"DK Publishing Inc\"\n",
    "# now it seems to be quite right\n",
    "\n",
    "df_books[df_books.index == 209538]\n"
   ]
  },
  {
   "cell_type": "code",
   "execution_count": 576,
   "id": "293eb29a",
   "metadata": {},
   "outputs": [
    {
     "data": {
      "text/html": [
       "<div>\n",
       "<style scoped>\n",
       "    .dataframe tbody tr th:only-of-type {\n",
       "        vertical-align: middle;\n",
       "    }\n",
       "\n",
       "    .dataframe tbody tr th {\n",
       "        vertical-align: top;\n",
       "    }\n",
       "\n",
       "    .dataframe thead th {\n",
       "        text-align: right;\n",
       "    }\n",
       "</style>\n",
       "<table border=\"1\" class=\"dataframe\">\n",
       "  <thead>\n",
       "    <tr style=\"text-align: right;\">\n",
       "      <th></th>\n",
       "      <th>ISBN</th>\n",
       "      <th>Book-Title</th>\n",
       "      <th>Book-Author</th>\n",
       "      <th>Year-Of-Publication</th>\n",
       "      <th>Publisher</th>\n",
       "      <th>Image-URL-S</th>\n",
       "      <th>Image-URL-M</th>\n",
       "      <th>Image-URL-L</th>\n",
       "    </tr>\n",
       "  </thead>\n",
       "  <tbody>\n",
       "    <tr>\n",
       "      <th>220731</th>\n",
       "      <td>2070426769</td>\n",
       "      <td>Peuple du ciel, suivi de 'Les Bergers</td>\n",
       "      <td>Jean-Marie Gustave Le ClÃ?Â©zio</td>\n",
       "      <td>2003</td>\n",
       "      <td>Gallimard</td>\n",
       "      <td>http://images.amazon.com/images/P/2070426769.01.MZZZZZZZ.jpg</td>\n",
       "      <td>http://images.amazon.com/images/P/2070426769.01.LZZZZZZZ.jpg</td>\n",
       "      <td>NaN</td>\n",
       "    </tr>\n",
       "  </tbody>\n",
       "</table>\n",
       "</div>"
      ],
      "text/plain": [
       "              ISBN                             Book-Title  \\\n",
       "220731  2070426769  Peuple du ciel, suivi de 'Les Bergers   \n",
       "\n",
       "                            Book-Author Year-Of-Publication  Publisher  \\\n",
       "220731  Jean-Marie Gustave Le ClÃ?Â©zio                2003  Gallimard   \n",
       "\n",
       "                                                         Image-URL-S  \\\n",
       "220731  http://images.amazon.com/images/P/2070426769.01.MZZZZZZZ.jpg   \n",
       "\n",
       "                                                         Image-URL-M  \\\n",
       "220731  http://images.amazon.com/images/P/2070426769.01.LZZZZZZZ.jpg   \n",
       "\n",
       "       Image-URL-L  \n",
       "220731         NaN  "
      ]
     },
     "execution_count": 576,
     "metadata": {},
     "output_type": "execute_result"
    }
   ],
   "source": [
    "df_books.loc[df_books.index == 220731, \"Book-Title\"] = \"Peuple du ciel, suivi de 'Les Bergers\"\n",
    "df_books.loc[df_books.index == 220731, \"Year-Of-Publication\"] = \"2003\"\n",
    "\n",
    "# something weird in the name, probably need to chance encode\n",
    "df_books.loc[df_books.index == 220731, \"Book-Author\"] = \"Jean-Marie Gustave Le ClÃ?Â©zio\"\n",
    "df_books.loc[df_books.index == 220731, \"Publisher\"] = 'Gallimard'\n",
    "\n",
    "df_books[df_books.index == 220731]\n"
   ]
  },
  {
   "cell_type": "code",
   "execution_count": 577,
   "id": "4a0c654a",
   "metadata": {},
   "outputs": [
    {
     "data": {
      "text/html": [
       "<div>\n",
       "<style scoped>\n",
       "    .dataframe tbody tr th:only-of-type {\n",
       "        vertical-align: middle;\n",
       "    }\n",
       "\n",
       "    .dataframe tbody tr th {\n",
       "        vertical-align: top;\n",
       "    }\n",
       "\n",
       "    .dataframe thead th {\n",
       "        text-align: right;\n",
       "    }\n",
       "</style>\n",
       "<table border=\"1\" class=\"dataframe\">\n",
       "  <thead>\n",
       "    <tr style=\"text-align: right;\">\n",
       "      <th></th>\n",
       "      <th>ISBN</th>\n",
       "      <th>Book-Title</th>\n",
       "      <th>Book-Author</th>\n",
       "      <th>Year-Of-Publication</th>\n",
       "      <th>Publisher</th>\n",
       "      <th>Image-URL-S</th>\n",
       "      <th>Image-URL-M</th>\n",
       "      <th>Image-URL-L</th>\n",
       "    </tr>\n",
       "  </thead>\n",
       "  <tbody>\n",
       "    <tr>\n",
       "      <th>220731</th>\n",
       "      <td>2070426769</td>\n",
       "      <td>Peuple du ciel, suivi de 'Les Bergers</td>\n",
       "      <td>Jean-Marie Gustave Le ClÃ?Â©zio</td>\n",
       "      <td>2003</td>\n",
       "      <td>Gallimard</td>\n",
       "      <td>http://images.amazon.com/images/P/2070426769.01.MZZZZZZZ.jpg</td>\n",
       "      <td>http://images.amazon.com/images/P/2070426769.01.LZZZZZZZ.jpg</td>\n",
       "      <td>NaN</td>\n",
       "    </tr>\n",
       "  </tbody>\n",
       "</table>\n",
       "</div>"
      ],
      "text/plain": [
       "              ISBN                             Book-Title  \\\n",
       "220731  2070426769  Peuple du ciel, suivi de 'Les Bergers   \n",
       "\n",
       "                            Book-Author Year-Of-Publication  Publisher  \\\n",
       "220731  Jean-Marie Gustave Le ClÃ?Â©zio                2003  Gallimard   \n",
       "\n",
       "                                                         Image-URL-S  \\\n",
       "220731  http://images.amazon.com/images/P/2070426769.01.MZZZZZZZ.jpg   \n",
       "\n",
       "                                                         Image-URL-M  \\\n",
       "220731  http://images.amazon.com/images/P/2070426769.01.LZZZZZZZ.jpg   \n",
       "\n",
       "       Image-URL-L  \n",
       "220731         NaN  "
      ]
     },
     "execution_count": 577,
     "metadata": {},
     "output_type": "execute_result"
    }
   ],
   "source": [
    "df_books.loc[df_books.index == 221678, \"Book-Title\"] = \"Peuple du ciel, suivi de 'Les Bergers\"\n",
    "df_books.loc[df_books.index == 221678, \"Year-Of-Publication\"] = \"2003\"\n",
    "\n",
    "# something weird in the name, probably need to chance encode\n",
    "df_books.loc[df_books.index == 221678, \"Book-Author\"] = \"Jean-Marie Gustave Le ClÃ?Â©zio\"\n",
    "df_books.loc[df_books.index == 221678, \"Publisher\"] = 'DK Publishing Inc'\n",
    "\n",
    "df_books[df_books.index == 220731]\n",
    "\n"
   ]
  },
  {
   "cell_type": "code",
   "execution_count": 578,
   "id": "b49da161",
   "metadata": {},
   "outputs": [
    {
     "data": {
      "text/plain": [
       "Index(['ISBN', 'Book-Title', 'Book-Author', 'Year-Of-Publication', 'Publisher',\n",
       "       'Image-URL-S', 'Image-URL-M', 'Image-URL-L'],\n",
       "      dtype='object')"
      ]
     },
     "execution_count": 578,
     "metadata": {},
     "output_type": "execute_result"
    }
   ],
   "source": [
    "## seems to be better with an exception of 0, and 2022+ years\n",
    "## I assume this issue can be addressed in the future\n",
    "## for now I am going to keep it as nan\n",
    "\n",
    "# df_books[(df_books['Year-Of-Publication']>'2022') or (df_books['Year-Of-Publication']==0)] = np.nan\n",
    "df_books.loc[(df_books['Year-Of-Publication']>'2022') | (df_books['Year-Of-Publication']=='0'), 'Year-Of-Publication'] = np.nan\n",
    "\n",
    "# converting to date-time convert to allow future interactions\n",
    "df_books['Year-Of-Publication'] = pd.to_datetime(df_books['Year-Of-Publication'], format='%Y', errors = 'coerce')\n",
    "\n",
    "\n",
    "\n",
    "df_books.columns\n",
    "\n"
   ]
  },
  {
   "cell_type": "code",
   "execution_count": 580,
   "id": "72cf78b7",
   "metadata": {},
   "outputs": [
    {
     "name": "stdout",
     "output_type": "stream",
     "text": [
      "ISBN                      0\n",
      "Book-Title                0\n",
      "Book-Author               1\n",
      "Year-Of-Publication    4633\n",
      "Publisher                 2\n",
      "Image-URL-S               0\n",
      "Image-URL-M               0\n",
      "Image-URL-L               3\n",
      "dtype: int64\n"
     ]
    }
   ],
   "source": [
    "## REMINDER\n",
    "\n",
    "# data.isnull() # shows a df with the information whether a data point is null \n",
    "\n",
    "print(df_books.isnull().sum())\n",
    "\n",
    "# and also publisher and book author to check"
   ]
  },
  {
   "cell_type": "code",
   "execution_count": 581,
   "id": "102d3cc6",
   "metadata": {},
   "outputs": [
    {
     "data": {
      "text/html": [
       "<div>\n",
       "<style scoped>\n",
       "    .dataframe tbody tr th:only-of-type {\n",
       "        vertical-align: middle;\n",
       "    }\n",
       "\n",
       "    .dataframe tbody tr th {\n",
       "        vertical-align: top;\n",
       "    }\n",
       "\n",
       "    .dataframe thead th {\n",
       "        text-align: right;\n",
       "    }\n",
       "</style>\n",
       "<table border=\"1\" class=\"dataframe\">\n",
       "  <thead>\n",
       "    <tr style=\"text-align: right;\">\n",
       "      <th></th>\n",
       "      <th>ISBN</th>\n",
       "      <th>Book-Title</th>\n",
       "      <th>Book-Author</th>\n",
       "      <th>Year-Of-Publication</th>\n",
       "      <th>Publisher</th>\n",
       "      <th>Image-URL-S</th>\n",
       "      <th>Image-URL-M</th>\n",
       "      <th>Image-URL-L</th>\n",
       "    </tr>\n",
       "  </thead>\n",
       "  <tbody>\n",
       "    <tr>\n",
       "      <th>128890</th>\n",
       "      <td>193169656X</td>\n",
       "      <td>Tyrant Moon</td>\n",
       "      <td>Elaine Corvidae</td>\n",
       "      <td>2002-01-01</td>\n",
       "      <td>NovelBooks, Inc.</td>\n",
       "      <td>http://images.amazon.com/images/P/193169656X.01.THUMBZZZ.jpg</td>\n",
       "      <td>http://images.amazon.com/images/P/193169656X.01.MZZZZZZZ.jpg</td>\n",
       "      <td>http://images.amazon.com/images/P/193169656X.01.LZZZZZZZ.jpg</td>\n",
       "    </tr>\n",
       "    <tr>\n",
       "      <th>129037</th>\n",
       "      <td>1931696993</td>\n",
       "      <td>Finders Keepers</td>\n",
       "      <td>Linnea Sinclair</td>\n",
       "      <td>2001-01-01</td>\n",
       "      <td>CreateSpace</td>\n",
       "      <td>http://images.amazon.com/images/P/1931696993.01.THUMBZZZ.jpg</td>\n",
       "      <td>http://images.amazon.com/images/P/1931696993.01.MZZZZZZZ.jpg</td>\n",
       "      <td>http://images.amazon.com/images/P/1931696993.01.LZZZZZZZ.jpg</td>\n",
       "    </tr>\n",
       "  </tbody>\n",
       "</table>\n",
       "</div>"
      ],
      "text/plain": [
       "              ISBN       Book-Title      Book-Author Year-Of-Publication  \\\n",
       "128890  193169656X      Tyrant Moon  Elaine Corvidae          2002-01-01   \n",
       "129037  1931696993  Finders Keepers  Linnea Sinclair          2001-01-01   \n",
       "\n",
       "               Publisher  \\\n",
       "128890  NovelBooks, Inc.   \n",
       "129037       CreateSpace   \n",
       "\n",
       "                                                         Image-URL-S  \\\n",
       "128890  http://images.amazon.com/images/P/193169656X.01.THUMBZZZ.jpg   \n",
       "129037  http://images.amazon.com/images/P/1931696993.01.THUMBZZZ.jpg   \n",
       "\n",
       "                                                         Image-URL-M  \\\n",
       "128890  http://images.amazon.com/images/P/193169656X.01.MZZZZZZZ.jpg   \n",
       "129037  http://images.amazon.com/images/P/1931696993.01.MZZZZZZZ.jpg   \n",
       "\n",
       "                                                         Image-URL-L  \n",
       "128890  http://images.amazon.com/images/P/193169656X.01.LZZZZZZZ.jpg  \n",
       "129037  http://images.amazon.com/images/P/1931696993.01.LZZZZZZZ.jpg  "
      ]
     },
     "execution_count": 581,
     "metadata": {},
     "output_type": "execute_result"
    }
   ],
   "source": [
    "df_books[df_books['Book-Author'].isnull()]\n",
    "\n",
    "# since it's just one entry, one can find the missing value by simple google search\n",
    "# it was Larissa Anne Downes\n",
    "\n",
    "df_books.loc[df_books.index == 187689, \"Book-Author\"] = \"Larissa Anne Downes\"\n",
    "\n",
    "# what about publishers, 2 values are missing\n",
    "df_books[df_books['Publisher'].isnull()]\n",
    "\n",
    "# seems like we will not be able to find it within database,\n",
    "# therefore we can refer to to the book using ISBN and year of publication\n",
    "# NovelBooks, Inc., CreateSpace for id = 128890 and 129037 respectively\n",
    "\n",
    "df_books.loc[df_books.index == 128890, \"Publisher\"] = \"NovelBooks, Inc.\"\n",
    "df_books.loc[df_books.index == 129037, 'Publisher'] = 'CreateSpace'\n",
    "df_books.loc[(df_books.index == 128890) | (df_books.index == 129037)]\n",
    "\n",
    "# Done!"
   ]
  },
  {
   "cell_type": "markdown",
   "id": "e83e2d28",
   "metadata": {},
   "source": [
    "## Ranking dataset"
   ]
  },
  {
   "cell_type": "code",
   "execution_count": 582,
   "id": "41cd2361",
   "metadata": {},
   "outputs": [
    {
     "data": {
      "text/html": [
       "<div>\n",
       "<style scoped>\n",
       "    .dataframe tbody tr th:only-of-type {\n",
       "        vertical-align: middle;\n",
       "    }\n",
       "\n",
       "    .dataframe tbody tr th {\n",
       "        vertical-align: top;\n",
       "    }\n",
       "\n",
       "    .dataframe thead th {\n",
       "        text-align: right;\n",
       "    }\n",
       "</style>\n",
       "<table border=\"1\" class=\"dataframe\">\n",
       "  <thead>\n",
       "    <tr style=\"text-align: right;\">\n",
       "      <th></th>\n",
       "      <th>User-ID</th>\n",
       "      <th>ISBN</th>\n",
       "      <th>Book-Rating</th>\n",
       "    </tr>\n",
       "  </thead>\n",
       "  <tbody>\n",
       "    <tr>\n",
       "      <th>0</th>\n",
       "      <td>276725</td>\n",
       "      <td>034545104X</td>\n",
       "      <td>0</td>\n",
       "    </tr>\n",
       "    <tr>\n",
       "      <th>1</th>\n",
       "      <td>276726</td>\n",
       "      <td>0155061224</td>\n",
       "      <td>5</td>\n",
       "    </tr>\n",
       "    <tr>\n",
       "      <th>2</th>\n",
       "      <td>276727</td>\n",
       "      <td>0446520802</td>\n",
       "      <td>0</td>\n",
       "    </tr>\n",
       "    <tr>\n",
       "      <th>3</th>\n",
       "      <td>276729</td>\n",
       "      <td>052165615X</td>\n",
       "      <td>3</td>\n",
       "    </tr>\n",
       "    <tr>\n",
       "      <th>4</th>\n",
       "      <td>276729</td>\n",
       "      <td>0521795028</td>\n",
       "      <td>6</td>\n",
       "    </tr>\n",
       "  </tbody>\n",
       "</table>\n",
       "</div>"
      ],
      "text/plain": [
       "   User-ID        ISBN  Book-Rating\n",
       "0   276725  034545104X            0\n",
       "1   276726  0155061224            5\n",
       "2   276727  0446520802            0\n",
       "3   276729  052165615X            3\n",
       "4   276729  0521795028            6"
      ]
     },
     "execution_count": 582,
     "metadata": {},
     "output_type": "execute_result"
    }
   ],
   "source": [
    "# Dataset exploration\n",
    "\n",
    "df_ranking.head()"
   ]
  },
  {
   "cell_type": "code",
   "execution_count": 583,
   "id": "e5d225a9",
   "metadata": {},
   "outputs": [
    {
     "name": "stdout",
     "output_type": "stream",
     "text": [
      "   User-ID        ISBN  Book-Rating\n",
      "0   276725  034545104X            0\n",
      "1   276726  0155061224            5\n",
      "2   276727  0446520802            0\n",
      "3   276729  052165615X            3\n",
      "4   276729  0521795028            6\n",
      "118644\n"
     ]
    },
    {
     "data": {
      "text/html": [
       "<div>\n",
       "<style scoped>\n",
       "    .dataframe tbody tr th:only-of-type {\n",
       "        vertical-align: middle;\n",
       "    }\n",
       "\n",
       "    .dataframe tbody tr th {\n",
       "        vertical-align: top;\n",
       "    }\n",
       "\n",
       "    .dataframe thead th {\n",
       "        text-align: right;\n",
       "    }\n",
       "</style>\n",
       "<table border=\"1\" class=\"dataframe\">\n",
       "  <thead>\n",
       "    <tr style=\"text-align: right;\">\n",
       "      <th></th>\n",
       "      <th>User-ID</th>\n",
       "      <th>ISBN</th>\n",
       "      <th>Book-Rating</th>\n",
       "    </tr>\n",
       "  </thead>\n",
       "  <tbody>\n",
       "    <tr>\n",
       "      <th>0</th>\n",
       "      <td>276725</td>\n",
       "      <td>034545104X</td>\n",
       "      <td>0</td>\n",
       "    </tr>\n",
       "    <tr>\n",
       "      <th>1</th>\n",
       "      <td>276726</td>\n",
       "      <td>0155061224</td>\n",
       "      <td>5</td>\n",
       "    </tr>\n",
       "    <tr>\n",
       "      <th>2</th>\n",
       "      <td>276727</td>\n",
       "      <td>0446520802</td>\n",
       "      <td>0</td>\n",
       "    </tr>\n",
       "    <tr>\n",
       "      <th>3</th>\n",
       "      <td>276729</td>\n",
       "      <td>052165615X</td>\n",
       "      <td>3</td>\n",
       "    </tr>\n",
       "    <tr>\n",
       "      <th>4</th>\n",
       "      <td>276729</td>\n",
       "      <td>0521795028</td>\n",
       "      <td>6</td>\n",
       "    </tr>\n",
       "  </tbody>\n",
       "</table>\n",
       "</div>"
      ],
      "text/plain": [
       "   User-ID        ISBN  Book-Rating\n",
       "0   276725  034545104X            0\n",
       "1   276726  0155061224            5\n",
       "2   276727  0446520802            0\n",
       "3   276729  052165615X            3\n",
       "4   276729  0521795028            6"
      ]
     },
     "execution_count": 583,
     "metadata": {},
     "output_type": "execute_result"
    }
   ],
   "source": [
    "print(df_ranking.head())\n",
    "\n",
    "# ranking is \"central\" dataset that will be used to create\n",
    "# recommendation system\n",
    "# therefore, we need consistency in users and books\n",
    "# meaning there should be no books that are not in original books dataset\n",
    "# and no users that are not in original users dataset\n",
    "# to make recommendation system use every piece of information\n",
    "# that containt all 3 datasets\n",
    "\n",
    "\n",
    "df_ranking_filtered_1 = df_ranking[df_ranking['ISBN'].isin(df_books['ISBN'])]\n",
    "df_ranking_filtered_2 = df_ranking_filtered_1[df_ranking_filtered_1['User-ID'].isin(df_users['User-ID'])]\n",
    "df_ranking_filtered_1.head()\n",
    "\n",
    "print(len(df_ranking) - len(df_ranking_filtered_1))\n",
    "\n",
    "# 118644 ranking has no ISBN information in books dataset\n",
    "# meaning we loose valuable infroamtion such as year, publisher and title\n",
    "\n",
    "\n",
    "df_ranking_filtered_2.head()\n"
   ]
  },
  {
   "cell_type": "markdown",
   "id": "558f0ab2",
   "metadata": {},
   "source": [
    "## Insights of datasets"
   ]
  },
  {
   "cell_type": "code",
   "execution_count": 584,
   "id": "1b34af41",
   "metadata": {},
   "outputs": [
    {
     "name": "stdout",
     "output_type": "stream",
     "text": [
      "count    92106.000000\n",
      "mean        11.195101\n",
      "std         88.685678\n",
      "min          1.000000\n",
      "25%          1.000000\n",
      "50%          1.000000\n",
      "75%          4.000000\n",
      "max      11144.000000\n",
      "Name: Book-Rating, dtype: float64\n",
      "Total numbers of users that rated book 92106\n",
      "Number of users that rated at least 5 books is 17714\n",
      "Number of users that rated at least 3 books is 24268 \n"
     ]
    }
   ],
   "source": [
    "number_of_ratings_by_user = df_ranking_filtered_2.groupby([\"User-ID\"])['Book-Rating'].count()\n",
    "print(number_of_ratings_by_user.describe(include='all'))\n",
    "\n",
    "# seems like on average each user provides with ~11 book evaluations\n",
    "# however it's makes it harder for the model \n",
    "# to learn when there is not much information about information about particuler users\n",
    "# say we want all users to provide their opnition about ~5 books at least\n",
    "# but it's not always the case\n",
    "\n",
    "print(f\"Total numbers of users that rated book {len(df_ranking_filtered_2['User-ID'].unique())}\")\n",
    "print(f'Number of users that rated at least 5 books is {len(number_of_ratings_by_user[number_of_ratings_by_user.values>5])}')\n",
    "print(f'Number of users that rated at least 3 books is {len(number_of_ratings_by_user[number_of_ratings_by_user.values>3])} ')"
   ]
  },
  {
   "cell_type": "code",
   "execution_count": 585,
   "id": "e39b0de7",
   "metadata": {},
   "outputs": [
    {
     "name": "stdout",
     "output_type": "stream",
     "text": [
      "count    270151.000000\n",
      "mean          3.816888\n",
      "std          13.811690\n",
      "min           1.000000\n",
      "25%           1.000000\n",
      "50%           1.000000\n",
      "75%           3.000000\n",
      "max        2502.000000\n",
      "Name: Book-Rating, dtype: float64\n",
      "Total numbers of books that was rated at least once 270151\n",
      "Books that were rated by at least 5 users  32737\n"
     ]
    }
   ],
   "source": [
    "number_of_ratings_by_book = df_ranking_filtered_2.groupby([\"ISBN\"])['Book-Rating'].count()\n",
    "print(number_of_ratings_by_book.describe(include='all'))\n",
    "\n",
    "# each books was rated ~3 times in average\n",
    "\n",
    "# here we want the same\n",
    "# as many ratings assigned by users as possible\n",
    "# let's see how many books were rated at least 5 times\n",
    "\n",
    "\n",
    "print(f\"Total numbers of books that was rated at least once {len(df_ranking_filtered_2['ISBN'].unique())}\")\n",
    "print(f'Books that were rated by at least 5 users  {number_of_ratings_by_book[number_of_ratings_by_book.values>5].count()}')\n",
    "\n",
    "# it's impotant factor in content based recommendation systems\n",
    "\n"
   ]
  },
  {
   "cell_type": "code",
   "execution_count": 586,
   "id": "786824e0",
   "metadata": {
    "scrolled": true
   },
   "outputs": [
    {
     "data": {
      "text/plain": [
       "array([ 0,  5,  3,  6,  7,  9,  8, 10,  1,  4,  2])"
      ]
     },
     "execution_count": 586,
     "metadata": {},
     "output_type": "execute_result"
    }
   ],
   "source": [
    "df_ranking_filtered_2['Book-Rating'].unique()\n",
    "\n",
    "## let's see what average per book looks like"
   ]
  },
  {
   "cell_type": "code",
   "execution_count": 587,
   "id": "24f50660",
   "metadata": {},
   "outputs": [
    {
     "name": "stdout",
     "output_type": "stream",
     "text": [
      "Books with the highest average rating: \n",
      "\n",
      "To The Rescue (Move and Play)\n",
      "Prometheus Bound (Greek Tragedy in New Translations)\n",
      "Dinosaurs: A Celebration\n"
     ]
    }
   ],
   "source": [
    "df_average_rating = df_ranking_filtered_2.groupby(['ISBN'])['Book-Rating'].agg('mean')\n",
    "df_average_rating = df_average_rating.sort_values(ascending = False)\n",
    "df_average_rating.head()\n",
    "\n",
    "df_average_rating.head(3).index.to_list()\n",
    "\n",
    "\n",
    "print('Books with the highest average rating: \\n')\n",
    "for book_code in df_average_rating.head(3).index.to_list():\n",
    "    \n",
    "    print(df_books.loc[df_books['ISBN'] == book_code, 'Book-Title'].iloc[0])\n",
    "    \n"
   ]
  },
  {
   "cell_type": "code",
   "execution_count": 595,
   "id": "074bbfcf",
   "metadata": {},
   "outputs": [
    {
     "data": {
      "text/plain": [
       "<AxesSubplot:title={'center':'Total rating'}>"
      ]
     },
     "execution_count": 595,
     "metadata": {},
     "output_type": "execute_result"
    },
    {
     "data": {
      "image/png": "[encoded data removed]",
      "text/plain": [
       "<Figure size 1224x720 with 1 Axes>"
      ]
     },
     "metadata": {},
     "output_type": "display_data"
    }
   ],
   "source": [
    "df_total_clicked = df_ranking_filtered_2.groupby(['ISBN'])['Book-Rating'].agg('sum')\n",
    "df_total_clicked = df_total_clicked.sort_values(ascending = False)\n",
    "total_rated = df_total_cliked.head(10).index.to_list()\n",
    "\n",
    "names = []\n",
    "for book_code in total_rated:\n",
    "    \n",
    "    names.append(df_books.loc[df_books['ISBN'] == book_code, 'Book-Title'].iloc[0])\n",
    "\n",
    "plt.style.use('seaborn-whitegrid')\n",
    "plt.figure(figsize=(17, 10))\n",
    "plt.title('Total rating', fontsize = 30)\n",
    "sns.barplot(x = df_total_clicked.head(10).values, y = names, palette='inferno')"
   ]
  },
  {
   "cell_type": "code",
   "execution_count": 589,
   "id": "270cbe70",
   "metadata": {},
   "outputs": [
    {
     "data": {
      "text/plain": [
       "<AxesSubplot:>"
      ]
     },
     "execution_count": 589,
     "metadata": {},
     "output_type": "execute_result"
    },
    {
     "data": {
      "image/png": "[encoded data removed]",
      "text/plain": [
       "<Figure size 1224x720 with 1 Axes>"
      ]
     },
     "metadata": {},
     "output_type": "display_data"
    }
   ],
   "source": [
    "df_top_countries = df_users['country'].value_counts()\n",
    "df_top_countries = df_top_countries.sort_values(ascending = False)\n",
    "\n",
    "top_10_countries = df_top_countries.index[0:5]\n",
    "top_10_countries_counts = df_top_countries.values[0:5]\n",
    "\n",
    "plt.figure(figsize=(17,10))\n",
    "plt.xticks(rotation=45)\n",
    "sns.scatterplot(x=top_10_countries, \n",
    "                y=top_10_countries_counts,\n",
    "                hue=top_10_countries,\n",
    "                )\n",
    "\n",
    "# Lots of reviews are coming from US - almost 140000 reviews,\n",
    "# right after Canada, UK Germany and Spain with a values\n",
    "# that reaches almost up to 20k"
   ]
  },
  {
   "cell_type": "markdown",
   "id": "2b897ecc",
   "metadata": {},
   "source": [
    "## Building baselines AND application of ML models discussed in the slides"
   ]
  },
  {
   "cell_type": "markdown",
   "id": "646dafe0",
   "metadata": {},
   "source": [
    "Baselines to be constructed: \n",
    "* \"Most popular\"\n",
    "* A basic content filtering model\n",
    "* Collaborative filtering models based on the KNN\n",
    "* SVD++ models."
   ]
  }
 ],
 "metadata": {
  "kernelspec": {
   "display_name": "Python 3",
   "language": "python",
   "name": "python3"
  },
  "language_info": {
   "codemirror_mode": {
    "name": "ipython",
    "version": 3
   },
   "file_extension": ".py",
   "mimetype": "text/x-python",
   "name": "python",
   "nbconvert_exporter": "python",
   "pygments_lexer": "ipython3",
   "version": "3.8.8"
  }
 },
 "nbformat": 4,
 "nbformat_minor": 5
}
